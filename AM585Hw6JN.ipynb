{
 "cells": [
  {
   "cell_type": "markdown",
   "metadata": {},
   "source": [
    "# Homework 6\n",
    "## Shannon Dow\n",
    "### Question 3: "
   ]
  },
  {
   "cell_type": "markdown",
   "metadata": {},
   "source": [
    "For this question, we are considering the differential equation: \n",
    "$$ \\frac{d}{dx}(\\kappa(x)u'(x)) = 0$$\n",
    "With dirichlet boundary data on [0,1] and where $\\kappa(x)$ is the defined as the discontinuous function: \n",
    "$$\\kappa(x) = \\begin{cases}\n",
    "\\epsilon & x < 0.5 \\\\\n",
    "1 & x > 0.5\n",
    "\\end{cases}$$"
   ]
  },
  {
   "cell_type": "code",
   "execution_count": 1,
   "metadata": {
    "collapsed": true
   },
   "outputs": [],
   "source": [
    "%matplotlib inline"
   ]
  },
  {
   "cell_type": "code",
   "execution_count": 2,
   "metadata": {
    "collapsed": true
   },
   "outputs": [],
   "source": [
    "from pylab import *"
   ]
  },
  {
   "cell_type": "code",
   "execution_count": 3,
   "metadata": {
    "collapsed": true
   },
   "outputs": [],
   "source": [
    "import logging\n",
    "logging.captureWarnings(True)\n",
    "from scipy import sparse\n",
    "from scipy.sparse.linalg import spsolve\n",
    "from scipy.sparse import diags\n",
    "import scipy.sparse.linalg as sp_linalg"
   ]
  },
  {
   "cell_type": "code",
   "execution_count": 4,
   "metadata": {
    "collapsed": true
   },
   "outputs": [],
   "source": [
    "from ipywidgets import interact\n",
    "import ipywidgets as widgets\n",
    "from IPython.display import display\n",
    "\n",
    "def animate_figs(figs):\n",
    "    show_frame = lambda frameno: display(figs[frameno])\n",
    "    interact(show_frame, frameno=widgets.IntSlider(min=0,max=len(figs)-1, value=0))"
   ]
  },
  {
   "cell_type": "code",
   "execution_count": 5,
   "metadata": {},
   "outputs": [],
   "source": [
    "def kap(x,eps):\n",
    "    k = []\n",
    "    l = len(x)\n",
    "    k = ones(l)\n",
    "    for i in range(0,l):\n",
    "        if x[i] < 0.5:\n",
    "            k[i] = eps*k[i]\n",
    "    return k"
   ]
  },
  {
   "cell_type": "code",
   "execution_count": 6,
   "metadata": {
    "collapsed": true
   },
   "outputs": [],
   "source": [
    "def utrue_fcn(x,eps): \n",
    "    u = []\n",
    "    l = len(x)\n",
    "    for i in range(0,l):\n",
    "        if x[i] < 0.5:\n",
    "            newu = ((2/(1+eps))*x[i])\n",
    "            u.append(newu)\n",
    "        elif x[i] >= 0.5:\n",
    "            newu = ((2*eps/(1+eps))*x[i]+((1-eps)/(1+eps)))\n",
    "            u.append(newu)\n",
    "    return u\n",
    "        "
   ]
  },
  {
   "cell_type": "code",
   "execution_count": 7,
   "metadata": {
    "collapsed": true
   },
   "outputs": [],
   "source": [
    "f_fcn = lambda x: 0*x"
   ]
  },
  {
   "cell_type": "code",
   "execution_count": 8,
   "metadata": {},
   "outputs": [],
   "source": [
    "def matvec(v):\n",
    "    m = len(v)\n",
    "    h = 1./(m+1)\n",
    "    v_full = zeros(m+2)\n",
    "    k = zeros(m+2)\n",
    "    v_full[1:-1] = v\n",
    "    b = (kappa_imh_j*v_full[:-2]- (kappa_imh_j+kappa_iph_j)*v_full[1:-1]+ kappa_iph_j*v_full[2:]) / h**2\n",
    "    return b"
   ]
  },
  {
   "cell_type": "code",
   "execution_count": 9,
   "metadata": {},
   "outputs": [],
   "source": [
    "def solve_bvp_CG(f_fcn, utrue_fcn, m, maxiter, kplot, verbose=False):\n",
    "    \n",
    "    h = 1./(m+1)\n",
    "    x_full = linspace(0,1,m+2)\n",
    "    x = x_full[1:m+1] # interior points\n",
    "\n",
    "    utrue_full = utrue_fcn(x_full,eps)\n",
    "    utrue = utrue_full[1:m+1]  # at interior points\n",
    "    \n",
    "    # Dirichlet boundary values from true solution:\n",
    "    alpha = 0\n",
    "    beta = 1\n",
    "\n",
    "    f_full = f_fcn(x_full)\n",
    "\n",
    "    # right-hand side:\n",
    "    f = f_full[1:m+1]  # at interior points\n",
    "\n",
    "    # adjust for Dirichlet BCs:\n",
    "    f[0] = f[0] - alpha / h**2\n",
    "    f[m-1] = f[m-1] - beta / h**2\n",
    "\n",
    "    # initial guess:\n",
    "    U0_full = linspace(alpha, beta, m+2)  # linear\n",
    "    U0 = U0_full[1:m+1]  # interior points\n",
    "\n",
    "    U = U0.copy() # current iterate\n",
    "    r = f - matvec(U)  # initial residual\n",
    "    p = r.copy()  # initial direction\n",
    "\n",
    "    tol = 10**-14  # stop if the residual \n",
    "\n",
    "    enorm = abs(U-utrue).max()\n",
    "    errors = [enorm]\n",
    "    errors2 = []\n",
    "    figs = []  # for the list of figures we generate\n",
    "\n",
    "    rTr_km = dot(r,r)  # r^T * r at iteration k-1\n",
    "\n",
    "    for k in range(1,maxiter+1):\n",
    "        w = matvec(p)   # the only matrix-vector multiply\n",
    "        a = rTr_km / dot(p,w) # alpha_{k-1} in CG algorithm\n",
    "        U = U + a*p\n",
    "        r = r - a*w\n",
    "\n",
    "        enorm = abs(U-utrue).max()\n",
    "        errors.append(enorm)\n",
    "\n",
    "        if mod(k,kplot)==0 or k==maxiter:\n",
    "            # every kplot iterations create a plot:\n",
    "            fig = figure(figsize=(12,5))\n",
    "            plot(x_full,U0_full,'r-o', label='initial guess')\n",
    "            plot(x_full,utrue_full,'k-o', label='true solution')\n",
    "            U_full = hstack([alpha,U,beta])\n",
    "            plot(x_full,U_full,'bo-', label= 'iteration k = %i' % k)\n",
    "            legend()\n",
    "            grid(True)\n",
    "            xlim(0,1)\n",
    "            ylim(0,3)\n",
    "            title('After %i iterations, norm(error) = %.2e' \\\n",
    "                  % (k, enorm))\n",
    "            figs.append(fig)\n",
    "            close(fig)\n",
    "\n",
    "        rTr_k = dot(r,r)\n",
    "        rnorm = sqrt(rTr_k)\n",
    "        errors2.append(rnorm)\n",
    "        \n",
    "        if verbose:\n",
    "            print('iteration %3i:   2-norm(r) = %.2e,   max-norm(E) = %.2e' \\\n",
    "                  % (k,rnorm,enorm))\n",
    "        \n",
    "        if rnorm < tol:\n",
    "            print('Stopping after %i iterations' % k)\n",
    "            break\n",
    "\n",
    "        # determine next search direction:\n",
    "        b = rTr_k / rTr_km   # beta_{k-1} in CG algorithm\n",
    "        rTr_km = rTr_k       # for next iteration\n",
    "        p = r + b*p           # next search direction\n",
    "    return errors,errors2, figs"
   ]
  },
  {
   "cell_type": "markdown",
   "metadata": {},
   "source": [
    "### Part (c) Implementing Conjugate Gradient"
   ]
  },
  {
   "cell_type": "code",
   "execution_count": 10,
   "metadata": {},
   "outputs": [
    {
     "name": "stdout",
     "output_type": "stream",
     "text": [
      "Stopping after 27 iterations\n",
      "Stopping after 39 iterations\n"
     ]
    }
   ],
   "source": [
    "m = 19;\n",
    "eps = 0.1;\n",
    "ax = 0;\n",
    "bx = 1;\n",
    "dx = (bx-ax)/(m+1.);\n",
    "\n",
    "X_full = linspace(0,1,m+2)\n",
    "X = X_full[1:-1]\n",
    "\n",
    "X_imh_j = X - dx/2.\n",
    "kappa_imh_j = kap(X_imh_j,eps)\n",
    "\n",
    "X_iph_j = X + dx/2.\n",
    "kappa_iph_j = kap(X_iph_j,eps)\n",
    "\n",
    "errors,errors2,figs = solve_bvp_CG(f_fcn, utrue_fcn, m=m, maxiter=100, kplot=1, verbose=False)\n",
    "\n",
    "m = 19;\n",
    "eps = 10**(-3);\n",
    "ax = 0;\n",
    "bx = 1;\n",
    "dx = (bx-ax)/(m+1.);\n",
    "\n",
    "X_full = linspace(0,1,m+2)\n",
    "X = X_full[1:-1]\n",
    "\n",
    "X_imh_j = X - dx/2.\n",
    "kappa_imh_j = kap(X_imh_j,eps)\n",
    "\n",
    "X_iph_j = X + dx/2.\n",
    "kappa_iph_j = kap(X_iph_j,eps)\n",
    "\n",
    "errorsn,errors2n,figs = solve_bvp_CG(f_fcn, utrue_fcn, m=m, maxiter=100, kplot=1, verbose=False)"
   ]
  },
  {
   "cell_type": "code",
   "execution_count": 11,
   "metadata": {},
   "outputs": [
    {
     "data": {
      "image/png": "[encoded data removed]",
      "text/plain": [
       "<matplotlib.figure.Figure at 0x119286d30>"
      ]
     },
     "metadata": {},
     "output_type": "display_data"
    },
    {
     "data": {
      "text/plain": [
       "<function __main__.<lambda>>"
      ]
     },
     "execution_count": 11,
     "metadata": {},
     "output_type": "execute_result"
    }
   ],
   "source": [
    "show_frame = lambda frameno: display(figs[3])\n",
    "interact(show_frame, frameno=widgets.IntSlider(min=0,max=len(figs)-1, value=0))"
   ]
  },
  {
   "cell_type": "code",
   "execution_count": 12,
   "metadata": {},
   "outputs": [
    {
     "data": {
      "text/plain": [
       "<matplotlib.text.Text at 0x11af0b668>"
      ]
     },
     "execution_count": 12,
     "metadata": {},
     "output_type": "execute_result"
    },
    {
     "data": {
      "image/png": "[encoded data removed]",
      "text/plain": [
       "<matplotlib.figure.Figure at 0x115aea940>"
      ]
     },
     "metadata": {},
     "output_type": "display_data"
    }
   ],
   "source": [
    "subplot(2,2,1)\n",
    "semilogy(errors)\n",
    "title('Max-Norm Error (Eps = 0.1)')\n",
    "xlabel('iterations')\n",
    "ylabel('error')\n",
    "subplot(2,2,2)\n",
    "semilogy(errors2)\n",
    "title('2-Norm Error (Eps = 0.1)')\n",
    "xlabel('iterations')\n",
    "ylabel('error')"
   ]
  },
  {
   "cell_type": "code",
   "execution_count": 13,
   "metadata": {},
   "outputs": [
    {
     "data": {
      "text/plain": [
       "<matplotlib.text.Text at 0x118335978>"
      ]
     },
     "execution_count": 13,
     "metadata": {},
     "output_type": "execute_result"
    },
    {
     "data": {
      "image/png": "[encoded data removed]",
      "text/plain": [
       "<matplotlib.figure.Figure at 0x118fddd30>"
      ]
     },
     "metadata": {},
     "output_type": "display_data"
    }
   ],
   "source": [
    "subplot(2,2,3)\n",
    "semilogy(errorsn)\n",
    "title('Max-Norm Error (Eps = 10^-3)')\n",
    "xlabel('iterations')\n",
    "ylabel('error')\n",
    "subplot(2,2,4)\n",
    "semilogy(errors2n)\n",
    "title('2-Norm Error (Eps = 10^-3)')\n",
    "xlabel('iterations')\n",
    "ylabel('error')"
   ]
  },
  {
   "cell_type": "markdown",
   "metadata": {},
   "source": [
    "#### Thoughts for (c)\n",
    "Despite m = 19, it takes 27 iterations ($\\epsilon$ = 0.1) and 39 iterations ($\\epsilon = 10^{-3}$). It only converges in m iterations for exact arithmetic. When $\\epsilon$ is decreased, it requires more iterations to converge. \n",
    "\n",
    "Additionally, it can be observed that iterations do small piecewise jumps up to the true solution. "
   ]
  },
  {
   "cell_type": "markdown",
   "metadata": {},
   "source": [
    "### Part (d) Implementing Diagonal Pre-Conditioned Conjugate Gradient"
   ]
  },
  {
   "cell_type": "code",
   "execution_count": 14,
   "metadata": {
    "collapsed": true
   },
   "outputs": [],
   "source": [
    "def make_plot(U,k,rnorm):\n",
    "    \n",
    "    # colormap for kappa:\n",
    "    kappa_min = kappa_full.min()\n",
    "    kappa_max = 2*kappa_full.max()\n",
    "    levels = linspace(kappa_min,kappa_max,21)\n",
    "    cmap = get_cmap('Purples')  # white to purple\n",
    "    vmin = kappa_min; vmax = kappa_max\n",
    "    \n",
    "    fig = figure(figsize=(10,6))\n",
    "    U_full = Ubc_full.copy()  # for boundary values\n",
    "    U_full[1:-1, 1:-1] = U\n",
    "    \n",
    "    contourf(X_full,Y_full,kappa_full,levels,\n",
    "             cmap=cmap,vmin=vmin,vmax=vmax)\n",
    "    \n",
    "    axis('scaled')\n",
    "    colorbar(shrink=0.8, label='kappa')\n",
    "    \n",
    "    # plot u, which corresponds to the stream function psi for this problem!\n",
    "    # so contours of u are approximate streamlines of the flow\n",
    "    \n",
    "    Ulevels = linspace(0,1,21)\n",
    "    contour(X_full,Y_full,U_full,Ulevels,\n",
    "             colors='k')\n",
    "    \n",
    "    title('iteration %3i:   2-norm(r) = %.2e\\n' % (k,rnorm) \\\n",
    "          + 'Streamlines of approximate solution')\n",
    "    \n",
    "    close(fig)\n",
    "    return fig"
   ]
  },
  {
   "cell_type": "code",
   "execution_count": 15,
   "metadata": {
    "collapsed": true
   },
   "outputs": [],
   "source": [
    "def inner_product(V,W):\n",
    "    \"\"\"\n",
    "    Given two grid functions V and W on an mx by my grid. \n",
    "    Return their inner product when viewed as vectors of unknowns\n",
    "    \"\"\"\n",
    "    return sum(V*W)"
   ]
  },
  {
   "cell_type": "code",
   "execution_count": 16,
   "metadata": {},
   "outputs": [],
   "source": [
    "m = 19;\n",
    "eps = 0.1;\n",
    "alpha = 0;\n",
    "beta = 1;\n",
    "dx = (beta-alpha)/(m+1.);\n",
    "h = 1/(m+1)\n",
    "X_full = linspace(0,1,m+2);\n",
    "X = X_full[1:-1];\n",
    "\n",
    "X_imh_j = X - dx/2.;\n",
    "kappa_imh_j = kap(X_imh_j,eps);\n",
    "\n",
    "X_iph_j = X + dx/2.;\n",
    "kappa_iph_j = kap(X_iph_j,eps);\n",
    "\n",
    "\n",
    "Mdiag = (kappa_imh_j + kappa_iph_j) / dx**2;\n"
   ]
  },
  {
   "cell_type": "code",
   "execution_count": 17,
   "metadata": {},
   "outputs": [
    {
     "name": "stdout",
     "output_type": "stream",
     "text": [
      "iteration   0:   2-norm(r) = 1.80e+01\n",
      "iteration   1:   2-norm(r) = 1.64e+01\n",
      "iteration   2:   2-norm(r) = 1.64e+01\n",
      "iteration   3:   2-norm(r) = 1.64e+01\n",
      "iteration   4:   2-norm(r) = 1.64e+01\n",
      "iteration   5:   2-norm(r) = 1.64e+01\n",
      "iteration   6:   2-norm(r) = 1.64e+01\n",
      "iteration   7:   2-norm(r) = 1.64e+01\n",
      "iteration   8:   2-norm(r) = 1.64e+01\n",
      "iteration   9:   2-norm(r) = 1.64e+01\n",
      "iteration  10:   2-norm(r) = 2.16e-14\n",
      "iteration  11:   2-norm(r) = 1.04e-14\n",
      "iteration  12:   2-norm(r) = 1.05e-14\n",
      "iteration  13:   2-norm(r) = 1.19e-14\n",
      "iteration  14:   2-norm(r) = 1.02e-14\n",
      "iteration  15:   2-norm(r) = 9.71e-15\n",
      "Satisfied rnorm < tol after 15 iterations\n",
      "Stopped after 15 iterations with 2-norm(r) = 9.71e-15\n"
     ]
    }
   ],
   "source": [
    "maxiter = 1000\n",
    "kplot = 100\n",
    "verbose = True\n",
    "tol = 10**-14  # stop if the residual falls below tol\n",
    "\n",
    "\n",
    "# right-hand side:\n",
    "F_full = f_fcn(X_full)\n",
    "f = F_full[1:-1]  # at interior points\n",
    "\n",
    "# adjust for Dirichlet BCs:\n",
    "f[0] = f[0] - alpha / h**2\n",
    "f[m-1] = f[m-1] - beta / h**2\n",
    "\n",
    "\n",
    "# initial guess:\n",
    "U0_full = X_full\n",
    "U0 = U0_full[1:-1]  # interior points\n",
    "\n",
    "U = U0.copy() # current iterate\n",
    "r = f - matvec(U)  # initial residual\n",
    "\n",
    "z = r / Mdiag  # apply preconditioner\n",
    "\n",
    "k = 0\n",
    "zTr_k = inner_product(z,r)  # modified for PCG\n",
    "p = z.copy()\n",
    "\n",
    "rTr_k = inner_product(r,r)  # for checking convergence\n",
    "rnorm = sqrt(rTr_k)\n",
    "rnorms = [rnorm]  # build up list of residuals\n",
    "\n",
    "if verbose:\n",
    "    print('iteration %3i:   2-norm(r) = %.2e' \\\n",
    "          % (k,rnorm))\n",
    "    \n",
    "figs = []  # for the list of figures we generate\n",
    "\n",
    "#fig = make_plot(U,k,rnorm) # plot initial guess\n",
    "#figs.append(fig)\n",
    "\n",
    "zTr_km = zTr_k  # in general will hold z^T * r at iteration k-1\n",
    "\n",
    "for k in range(1,maxiter+1):\n",
    "    w = matvec(p)   # the only matrix-vector multiply\n",
    "    a = zTr_km / inner_product(p,w)  # alpha_{k-1} in PCG algorithm\n",
    "    U = U + a*p\n",
    "    r = r - a*w\n",
    "    z = r / Mdiag  # apply preconditioner\n",
    "\n",
    "    zTr_k = inner_product(z,r)  # modified for PCG\n",
    "    \n",
    "    rTr_k = inner_product(r,r)  # for checking convergence\n",
    "    rnorm = sqrt(rTr_k)\n",
    "    rnorms.append(rnorm)\n",
    "\n",
    "    if verbose:\n",
    "        print('iteration %3i:   2-norm(r) = %.2e'% (k,rnorm))\n",
    "    \n",
    "    # check for convergence:\n",
    "    if rnorm < tol:\n",
    "        print('Satisfied rnorm < tol after %i iterations' % k)\n",
    "        break\n",
    "        \n",
    "    # determine next search direction:\n",
    "    b = zTr_k / zTr_km   # beta_{k-1} in PCG algorithm\n",
    "    zTr_km = zTr_k       # for next iteration\n",
    "    p = z + b*p           # next search direction\n",
    "\n",
    "print('Stopped after %i iterations with 2-norm(r) = %.2e' \\\n",
    "   % (k,rnorm))"
   ]
  },
  {
   "cell_type": "code",
   "execution_count": 18,
   "metadata": {},
   "outputs": [
    {
     "data": {
      "text/plain": [
       "<matplotlib.text.Text at 0x119153588>"
      ]
     },
     "execution_count": 18,
     "metadata": {},
     "output_type": "execute_result"
    },
    {
     "data": {
      "image/png": "[encoded data removed]",
      "text/plain": [
       "<matplotlib.figure.Figure at 0x1189b49b0>"
      ]
     },
     "metadata": {},
     "output_type": "display_data"
    }
   ],
   "source": [
    "semilogy(rnorms)\n",
    "title('Semilogy Plot for PCG (epsilon = 0.1)')\n",
    "xlabel('k')\n",
    "ylabel('error')"
   ]
  },
  {
   "cell_type": "code",
   "execution_count": 19,
   "metadata": {},
   "outputs": [],
   "source": [
    "m = 19;\n",
    "eps = 10**(-3);\n",
    "alpha = 0;\n",
    "beta = 1;\n",
    "dx = (beta-alpha)/(m+1.);\n",
    "h = 1/(m+1)\n",
    "X_full = linspace(0,1,m+2);\n",
    "X = X_full[1:-1];\n",
    "\n",
    "X_imh_j = X - dx/2.;\n",
    "kappa_imh_j = kap(X_imh_j,eps);\n",
    "\n",
    "X_iph_j = X + dx/2.;\n",
    "kappa_iph_j = kap(X_iph_j,eps);\n",
    "\n",
    "\n",
    "Mdiag = (kappa_imh_j + kappa_iph_j) / dx**2;\n",
    "\n"
   ]
  },
  {
   "cell_type": "code",
   "execution_count": 20,
   "metadata": {},
   "outputs": [
    {
     "name": "stdout",
     "output_type": "stream",
     "text": [
      "iteration   0:   2-norm(r) = 2.00e+01\n",
      "iteration   1:   2-norm(r) = 2.00e+01\n",
      "iteration   2:   2-norm(r) = 2.00e+01\n",
      "iteration   3:   2-norm(r) = 2.00e+01\n",
      "iteration   4:   2-norm(r) = 2.00e+01\n",
      "iteration   5:   2-norm(r) = 2.00e+01\n",
      "iteration   6:   2-norm(r) = 2.00e+01\n",
      "iteration   7:   2-norm(r) = 2.00e+01\n",
      "iteration   8:   2-norm(r) = 2.00e+01\n",
      "iteration   9:   2-norm(r) = 2.00e+01\n",
      "iteration  10:   2-norm(r) = 2.51e-14\n",
      "iteration  11:   2-norm(r) = 4.61e-15\n",
      "Satisfied rnorm < tol after 11 iterations\n",
      "Stopped after 11 iterations with 2-norm(r) = 4.61e-15\n"
     ]
    }
   ],
   "source": [
    "maxiter = 1000\n",
    "kplot = 100\n",
    "verbose = True\n",
    "tol = 10**-14  # stop if the residual falls below tol\n",
    "\n",
    "\n",
    "# right-hand side:\n",
    "F_full = f_fcn(X_full)\n",
    "f = F_full[1:-1]  # at interior points\n",
    "\n",
    "# adjust for Dirichlet BCs:\n",
    "f[0] = f[0] - alpha / h**2\n",
    "f[m-1] = f[m-1] - beta / h**2\n",
    "\n",
    "\n",
    "# initial guess:\n",
    "U0_full = X_full\n",
    "U0 = U0_full[1:-1]  # interior points\n",
    "\n",
    "U = U0.copy() # current iterate\n",
    "r = f - matvec(U)  # initial residual\n",
    "\n",
    "z = r / Mdiag  # apply preconditioner\n",
    "\n",
    "k = 0\n",
    "zTr_k = inner_product(z,r)  # modified for PCG\n",
    "p = z.copy()\n",
    "\n",
    "rTr_k = inner_product(r,r)  # for checking convergence\n",
    "rnorm = sqrt(rTr_k)\n",
    "rnorms = [rnorm]  # build up list of residuals\n",
    "\n",
    "if verbose:\n",
    "    print('iteration %3i:   2-norm(r) = %.2e' \\\n",
    "          % (k,rnorm))\n",
    "    \n",
    "figs = []  # for the list of figures we generate\n",
    "\n",
    "#fig = make_plot(U,k,rnorm) # plot initial guess\n",
    "#figs.append(fig)\n",
    "\n",
    "zTr_km = zTr_k  # in general will hold z^T * r at iteration k-1\n",
    "\n",
    "for k in range(1,maxiter+1):\n",
    "    w = matvec(p)   # the only matrix-vector multiply\n",
    "    a = zTr_km / inner_product(p,w)  # alpha_{k-1} in PCG algorithm\n",
    "    U = U + a*p\n",
    "    r = r - a*w\n",
    "    z = r / Mdiag  # apply preconditioner\n",
    "\n",
    "    zTr_k = inner_product(z,r)  # modified for PCG\n",
    "    \n",
    "    rTr_k = inner_product(r,r)  # for checking convergence\n",
    "    rnorm = sqrt(rTr_k)\n",
    "    rnorms.append(rnorm)\n",
    "\n",
    "    if verbose:\n",
    "        print('iteration %3i:   2-norm(r) = %.2e'% (k,rnorm))\n",
    "    \n",
    "    # check for convergence:\n",
    "    if rnorm < tol:\n",
    "        print('Satisfied rnorm < tol after %i iterations' % k)\n",
    "        break\n",
    "        \n",
    "    # determine next search direction:\n",
    "    b = zTr_k / zTr_km   # beta_{k-1} in PCG algorithm\n",
    "    zTr_km = zTr_k       # for next iteration\n",
    "    p = z + b*p           # next search direction\n",
    "\n",
    "print('Stopped after %i iterations with 2-norm(r) = %.2e' \\\n",
    "   % (k,rnorm))"
   ]
  },
  {
   "cell_type": "code",
   "execution_count": 21,
   "metadata": {},
   "outputs": [
    {
     "data": {
      "text/plain": [
       "<matplotlib.text.Text at 0x11b315e10>"
      ]
     },
     "execution_count": 21,
     "metadata": {},
     "output_type": "execute_result"
    },
    {
     "data": {
      "image/png": "[encoded data removed]",
      "text/plain": [
       "<matplotlib.figure.Figure at 0x11911db00>"
      ]
     },
     "metadata": {},
     "output_type": "display_data"
    }
   ],
   "source": [
    "semilogy(rnorms)\n",
    "title('Semilogy Plot for PCG (epsilon = 10^(-3))')\n",
    "xlabel('k')\n",
    "ylabel('error')"
   ]
  },
  {
   "cell_type": "markdown",
   "metadata": {},
   "source": [
    "#### Thoughts on (d)\n",
    "Here, you can see that when we use a pre-conditioned matrix M = diag(A) the PCG converges in less than m = 19 iterations. In the PCG, the algorithm converges faster when $\\epsilon$ is smaller. "
   ]
  },
  {
   "cell_type": "code",
   "execution_count": 23,
   "metadata": {},
   "outputs": [
    {
     "data": {
      "text/plain": [
       "array([  8.00000000e-01,   8.00000000e-01,   8.00000000e-01,\n",
       "         8.00000000e-01,   8.00000000e-01,   8.00000000e-01,\n",
       "         8.00000000e-01,   8.00000000e-01,   8.00000000e-01,\n",
       "         4.00400000e+02,   8.00000000e+02,   8.00000000e+02,\n",
       "         8.00000000e+02,   8.00000000e+02,   8.00000000e+02,\n",
       "         8.00000000e+02,   8.00000000e+02,   8.00000000e+02,\n",
       "         8.00000000e+02])"
      ]
     },
     "execution_count": 23,
     "metadata": {},
     "output_type": "execute_result"
    }
   ],
   "source": [
    "Mdiag"
   ]
  },
  {
   "cell_type": "code",
   "execution_count": null,
   "metadata": {
    "collapsed": true
   },
   "outputs": [],
   "source": []
  }
 ],
 "metadata": {
  "anaconda-cloud": {},
  "kernelspec": {
   "display_name": "Python [Root]",
   "language": "python",
   "name": "Python [Root]"
  },
  "language_info": {
   "codemirror_mode": {
    "name": "ipython",
    "version": 3
   },
   "file_extension": ".py",
   "mimetype": "text/x-python",
   "name": "python",
   "nbconvert_exporter": "python",
   "pygments_lexer": "ipython3",
   "version": "3.5.2"
  }
 },
 "nbformat": 4,
 "nbformat_minor": 1
}
