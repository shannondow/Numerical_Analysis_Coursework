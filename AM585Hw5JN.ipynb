{
 "cells": [
  {
   "cell_type": "markdown",
   "metadata": {},
   "source": [
    "# AMATH 585 Homework 5\n",
    "## Shannon Dow\n",
    "Question 5(b)"
   ]
  },
  {
   "cell_type": "code",
   "execution_count": 5,
   "metadata": {
    "collapsed": true
   },
   "outputs": [],
   "source": [
    "%matplotlib inline"
   ]
  },
  {
   "cell_type": "code",
   "execution_count": 6,
   "metadata": {
    "collapsed": true
   },
   "outputs": [],
   "source": [
    "from pylab import *"
   ]
  },
  {
   "cell_type": "code",
   "execution_count": 7,
   "metadata": {
    "collapsed": true
   },
   "outputs": [],
   "source": [
    "import logging\n",
    "logging.captureWarnings(True)\n",
    "from scipy import sparse\n",
    "from scipy.sparse.linalg import spsolve\n",
    "from scipy.sparse import diags\n",
    "import scipy.sparse.linalg as sp_linalg"
   ]
  },
  {
   "cell_type": "code",
   "execution_count": 4,
   "metadata": {
    "collapsed": true
   },
   "outputs": [],
   "source": [
    "from ipywidgets import interact\n",
    "import ipywidgets as widgets\n",
    "from IPython.display import display\n",
    "\n",
    "def animate_figs(figs):\n",
    "    show_frame = lambda frameno: display(figs[frameno])\n",
    "    interact(show_frame, frameno=widgets.IntSlider(min=0,max=len(figs)-1, value=0))"
   ]
  },
  {
   "cell_type": "markdown",
   "metadata": {},
   "source": [
    "For this problem, we want to solve: $\\frac{d}{dx}\\left(\\kappa(x) u'(x)\\right) = f(x)$\n",
    "where\n",
    "$$ \\kappa(x)  = 0.1 (x<0.5)  = 1 (x>0.5)$$\n",
    "\n"
   ]
  },
  {
   "cell_type": "code",
   "execution_count": 4,
   "metadata": {
    "collapsed": true
   },
   "outputs": [],
   "source": [
    "def kap(x):\n",
    "    if x < 0.5:\n",
    "        k = 0.1\n",
    "    if x > 0.5:\n",
    "        k = 1\n",
    "    return k"
   ]
  },
  {
   "cell_type": "code",
   "execution_count": 5,
   "metadata": {
    "collapsed": true
   },
   "outputs": [],
   "source": [
    "def utrue_fcn(x): \n",
    "    u = []\n",
    "    l = len(x)\n",
    "    for i in range(0,l):\n",
    "        if x[i] < 0.5:\n",
    "            newu = (20/11)*x[i]\n",
    "            u.append(newu)\n",
    "        elif x[i] >= 0.5:\n",
    "            newu = (2/11)*x[i]+(9/11)\n",
    "            u.append(newu)\n",
    "    return u\n",
    "        "
   ]
  },
  {
   "cell_type": "code",
   "execution_count": 6,
   "metadata": {},
   "outputs": [
    {
     "data": {
      "text/plain": [
       "[<matplotlib.lines.Line2D at 0x116a68a90>]"
      ]
     },
     "execution_count": 6,
     "metadata": {},
     "output_type": "execute_result"
    },
    {
     "data": {
      "image/png": "[encoded data removed]",
      "text/plain": [
       "<matplotlib.figure.Figure at 0x1144c3cc0>"
      ]
     },
     "metadata": {},
     "output_type": "display_data"
    }
   ],
   "source": [
    "xt = linspace(0,1,21)\n",
    "plot(xt,utrue_fcn(xt))"
   ]
  },
  {
   "cell_type": "code",
   "execution_count": 7,
   "metadata": {
    "collapsed": true
   },
   "outputs": [],
   "source": [
    "f_fcn = lambda x: 0*x"
   ]
  },
  {
   "cell_type": "code",
   "execution_count": 8,
   "metadata": {
    "collapsed": true
   },
   "outputs": [],
   "source": [
    "def update_u_SOR(U, F, h, x,omega):\n",
    "    \"\"\"\n",
    "    Input: Current iterate U^[k-1]\n",
    "    Output: Next iterate U^[k]\n",
    "    \"\"\"\n",
    "    \n",
    "    m = len(U) - 2\n",
    "    for i in range(1,m+1):\n",
    "        U[i] = (1/(kap((i-0.5)/(m+1))+kap((i+0.5)/(m+1))))*(kap((i-0.5)/(m+1))*U[i-1] + kap((i+0.5)/(m+1))*U[i+1] - h**2 * F[i])*omega \\\n",
    "               + (1-omega)*U[i]\n",
    "    return U"
   ]
  },
  {
   "cell_type": "code",
   "execution_count": 9,
   "metadata": {
    "collapsed": true
   },
   "outputs": [],
   "source": [
    "def solve_bvp(f_fcn, utrue_fcn, m, update_u, maxiter, kplot,omega):\n",
    "\n",
    "    alpha = 0\n",
    "    beta = 1\n",
    "\n",
    "    h = 1./(m+1)\n",
    "    x = linspace(0,1,m+2)\n",
    "\n",
    "    utrue = utrue_fcn(x)\n",
    "    F = f_fcn(x)\n",
    "\n",
    "    U0 = linspace(alpha, beta, m+2) # initial guess\n",
    "    U = U0.copy() # current iterate\n",
    "\n",
    "    max_error = abs(U-utrue).max()\n",
    "    errors = [max_error]\n",
    "\n",
    "    figs = []  # for the list of figures we generate\n",
    "    for k in range(1,maxiter+1):\n",
    "        if k==0.5:\n",
    "            U = (10/11)\n",
    "        else:\n",
    "            U = update_u(U, F, h, x,omega)  # take one iteration\n",
    "        \n",
    "        max_error = abs(U-utrue).max()\n",
    "        errors.append(max_error)\n",
    "    \n",
    "        if mod(k,kplot)==0 or k==maxiter:\n",
    "            # every kplot iterations create a plot:\n",
    "            fig = figure(figsize=(12,5))\n",
    "            plot(x,U0,'r-o', label='initial guess')\n",
    "            plot(x,utrue,'k-o', label='true solution')\n",
    "            plot(x,U,'bo-', label= 'iteration k = %i' % k)\n",
    "            legend()\n",
    "            grid(True)\n",
    "            xlim(0,1)\n",
    "            ylim(0, 3)\n",
    "            title('After %i iterations, max error = %.2e' \\\n",
    "                  % (k, max_error))\n",
    "            figs.append(fig)\n",
    "            close(fig)\n",
    "            \n",
    "    errors = array(errors)  # convert list to numpy array\n",
    "    return errors, figs"
   ]
  },
  {
   "cell_type": "code",
   "execution_count": 10,
   "metadata": {
    "collapsed": true
   },
   "outputs": [],
   "source": [
    "def convergence_rate(k_vals, errors):\n",
    "    n = len(k_vals)\n",
    "    assert len(errors) == n, 'k_vals and errors must have the same length'\n",
    "    print('Estimating rate based on %i values' % n)\n",
    "    B = vstack((ones(n),k_vals)).T\n",
    "    logE = log(errors)\n",
    "    \n",
    "    # solve least square problem:\n",
    "    c, residuals, rank, s = lstsq(B,logE,rcond=None)\n",
    "    \n",
    "    logC = c[0]\n",
    "    logrho = c[1]\n",
    "    C = exp(logC)\n",
    "    rho = exp(logrho)\n",
    "    print('Convergence approximately like  E(k) = %.3f * rho**k   with rho = %.8f' % (C,rho))"
   ]
  },
  {
   "cell_type": "code",
   "execution_count": 38,
   "metadata": {},
   "outputs": [
    {
     "name": "stdout",
     "output_type": "stream",
     "text": [
      "Estimating rate based on 50 values\n"
     ]
    },
    {
     "ename": "TypeError",
     "evalue": "a float is required",
     "output_type": "error",
     "traceback": [
      "\u001b[0;31m---------------------------------------------------------------------------\u001b[0m",
      "\u001b[0;31mTypeError\u001b[0m                                 Traceback (most recent call last)",
      "\u001b[0;32m<ipython-input-38-8e9c5231c99d>\u001b[0m in \u001b[0;36m<module>\u001b[0;34m()\u001b[0m\n\u001b[1;32m     14\u001b[0m     \u001b[0mgrind\u001b[0m \u001b[0;34m=\u001b[0m \u001b[0;32mTrue\u001b[0m\u001b[0;34m\u001b[0m\u001b[0m\n\u001b[1;32m     15\u001b[0m     \u001b[0mk_vals\u001b[0m \u001b[0;34m=\u001b[0m \u001b[0marange\u001b[0m\u001b[0;34m(\u001b[0m\u001b[0;36m50\u001b[0m\u001b[0;34m,\u001b[0m\u001b[0;36m100\u001b[0m\u001b[0;34m,\u001b[0m\u001b[0mdtype\u001b[0m \u001b[0;34m=\u001b[0m \u001b[0mint\u001b[0m\u001b[0;34m)\u001b[0m\u001b[0;34m\u001b[0m\u001b[0m\n\u001b[0;32m---> 16\u001b[0;31m     \u001b[0mrho\u001b[0m \u001b[0;34m=\u001b[0m \u001b[0mconvergence_rate\u001b[0m\u001b[0;34m(\u001b[0m\u001b[0mk_vals\u001b[0m\u001b[0;34m,\u001b[0m\u001b[0merrors_SOR\u001b[0m\u001b[0;34m[\u001b[0m\u001b[0mk_vals\u001b[0m\u001b[0;34m]\u001b[0m\u001b[0;34m)\u001b[0m\u001b[0;34m\u001b[0m\u001b[0m\n\u001b[0m\u001b[1;32m     17\u001b[0m     \u001b[0mprint\u001b[0m\u001b[0;34m(\u001b[0m\u001b[0;34m'The convergence rate for '\u001b[0m\u001b[0;34m+\u001b[0m \u001b[0mname\u001b[0m \u001b[0;34m+\u001b[0m\u001b[0;34m\" is \"\u001b[0m\u001b[0;34m+\u001b[0m \u001b[0mstr\u001b[0m\u001b[0;34m(\u001b[0m\u001b[0mrho\u001b[0m\u001b[0;34m)\u001b[0m\u001b[0;34m)\u001b[0m\u001b[0;34m\u001b[0m\u001b[0m\n\u001b[1;32m     18\u001b[0m \u001b[0;34m\u001b[0m\u001b[0m\n",
      "\u001b[0;32m<ipython-input-10-0c4fdab0662a>\u001b[0m in \u001b[0;36mconvergence_rate\u001b[0;34m(k_vals, errors)\u001b[0m\n\u001b[1;32m      7\u001b[0m \u001b[0;34m\u001b[0m\u001b[0m\n\u001b[1;32m      8\u001b[0m     \u001b[0;31m# solve least square problem:\u001b[0m\u001b[0;34m\u001b[0m\u001b[0;34m\u001b[0m\u001b[0m\n\u001b[0;32m----> 9\u001b[0;31m     \u001b[0mc\u001b[0m\u001b[0;34m,\u001b[0m \u001b[0mresiduals\u001b[0m\u001b[0;34m,\u001b[0m \u001b[0mrank\u001b[0m\u001b[0;34m,\u001b[0m \u001b[0ms\u001b[0m \u001b[0;34m=\u001b[0m \u001b[0mlstsq\u001b[0m\u001b[0;34m(\u001b[0m\u001b[0mB\u001b[0m\u001b[0;34m,\u001b[0m\u001b[0mlogE\u001b[0m\u001b[0;34m,\u001b[0m\u001b[0mrcond\u001b[0m\u001b[0;34m=\u001b[0m\u001b[0;32mNone\u001b[0m\u001b[0;34m)\u001b[0m\u001b[0;34m\u001b[0m\u001b[0m\n\u001b[0m\u001b[1;32m     10\u001b[0m \u001b[0;34m\u001b[0m\u001b[0m\n\u001b[1;32m     11\u001b[0m     \u001b[0mlogC\u001b[0m \u001b[0;34m=\u001b[0m \u001b[0mc\u001b[0m\u001b[0;34m[\u001b[0m\u001b[0;36m0\u001b[0m\u001b[0;34m]\u001b[0m\u001b[0;34m\u001b[0m\u001b[0m\n",
      "\u001b[0;32m/Applications/anaconda/lib/python3.5/site-packages/numpy/linalg/linalg.py\u001b[0m in \u001b[0;36mlstsq\u001b[0;34m(a, b, rcond)\u001b[0m\n\u001b[1;32m   1913\u001b[0m         \u001b[0mwork\u001b[0m \u001b[0;34m=\u001b[0m \u001b[0mzeros\u001b[0m\u001b[0;34m(\u001b[0m\u001b[0;34m(\u001b[0m\u001b[0mlwork\u001b[0m\u001b[0;34m,\u001b[0m\u001b[0;34m)\u001b[0m\u001b[0;34m,\u001b[0m \u001b[0mt\u001b[0m\u001b[0;34m)\u001b[0m\u001b[0;34m\u001b[0m\u001b[0m\n\u001b[1;32m   1914\u001b[0m         results = lapack_routine(m, n, n_rhs, a, m, bstar, ldb, s, rcond,\n\u001b[0;32m-> 1915\u001b[0;31m                                  0, work, -1, iwork, 0)\n\u001b[0m\u001b[1;32m   1916\u001b[0m         \u001b[0mlwork\u001b[0m \u001b[0;34m=\u001b[0m \u001b[0mint\u001b[0m\u001b[0;34m(\u001b[0m\u001b[0mwork\u001b[0m\u001b[0;34m[\u001b[0m\u001b[0;36m0\u001b[0m\u001b[0;34m]\u001b[0m\u001b[0;34m)\u001b[0m\u001b[0;34m\u001b[0m\u001b[0m\n\u001b[1;32m   1917\u001b[0m         \u001b[0mwork\u001b[0m \u001b[0;34m=\u001b[0m \u001b[0mzeros\u001b[0m\u001b[0;34m(\u001b[0m\u001b[0;34m(\u001b[0m\u001b[0mlwork\u001b[0m\u001b[0;34m,\u001b[0m\u001b[0;34m)\u001b[0m\u001b[0;34m,\u001b[0m \u001b[0mt\u001b[0m\u001b[0;34m)\u001b[0m\u001b[0;34m\u001b[0m\u001b[0m\n",
      "\u001b[0;31mTypeError\u001b[0m: a float is required"
     ]
    },
    {
     "data": {
      "image/png": "[encoded data removed]",
      "text/plain": [
       "<matplotlib.figure.Figure at 0x11a2f8f60>"
      ]
     },
     "metadata": {},
     "output_type": "display_data"
    }
   ],
   "source": [
    "m=19\n",
    "om = [0.7,1,1.7]\n",
    "\n",
    "for i in range(0,3):\n",
    "    errors_SOR, figs = solve_bvp(f_fcn, utrue_fcn, m=m, update_u=update_u_SOR, maxiter=400, kplot=20, omega = om[i])\n",
    "    name = 'omega = '+ str(om[i]);\n",
    "    subplot(2,1,1)\n",
    "    plot(errors_SOR,label=name)\n",
    "    legend()\n",
    "    grind = True\n",
    "    subplot(2,1,2)\n",
    "    semilogy(errors_SOR,label=name)\n",
    "    legend()\n",
    "    grind = True\n",
    "    k_vals = arange(50,100,dtype = int)\n",
    "    rho = convergence_rate(k_vals,errors_SOR[k_vals])\n",
    "    print('The convergence rate for '+ name +\" is \"+ str(rho))\n",
    "    \n"
   ]
  },
  {
   "cell_type": "markdown",
   "metadata": {},
   "source": [
    "From the above curves, you can see that it is fastest for $\\omega$ = 1.7, and the slowest for 0.7. In general the $\\omega$ should be between -2 and 2. It appears that 1.7 is closer to the optimal $\\omega$. \n"
   ]
  },
  {
   "cell_type": "code",
   "execution_count": 12,
   "metadata": {},
   "outputs": [
    {
     "data": {
      "image/png": "[encoded data removed]",
      "text/plain": [
       "<matplotlib.figure.Figure at 0x118819c50>"
      ]
     },
     "metadata": {},
     "output_type": "display_data"
    }
   ],
   "source": [
    "animate_figs(figs)"
   ]
  },
  {
   "cell_type": "markdown",
   "metadata": {},
   "source": [
    "Note: I could not get the convergence_rate funciton to work. I believe it has something to do with the way lstsq works. I get the same exact error if I run the professor's code as well. I was able to use the same code to run on another laptop (where the PDF comes from)! "
   ]
  },
  {
   "cell_type": "code",
   "execution_count": null,
   "metadata": {
    "collapsed": true
   },
   "outputs": [],
   "source": []
  }
 ],
 "metadata": {
  "anaconda-cloud": {},
  "kernelspec": {
   "display_name": "Python [Root]",
   "language": "python",
   "name": "Python [Root]"
  },
  "language_info": {
   "codemirror_mode": {
    "name": "ipython",
    "version": 3
   },
   "file_extension": ".py",
   "mimetype": "text/x-python",
   "name": "python",
   "nbconvert_exporter": "python",
   "pygments_lexer": "ipython3",
   "version": "3.5.2"
  }
 },
 "nbformat": 4,
 "nbformat_minor": 1
}
